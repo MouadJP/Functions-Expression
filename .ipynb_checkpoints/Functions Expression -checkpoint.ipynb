{
 "cells": [
  {
   "cell_type": "code",
   "execution_count": 53,
   "id": "2f726f4b",
   "metadata": {},
   "outputs": [
    {
     "data": {
      "application/vnd.jupyter.widget-view+json": {
       "model_id": "1e8f056e24f34fc5b0faf1b4b6ca9799",
       "version_major": 2,
       "version_minor": 0
      },
      "text/plain": [
       "interactive(children=(FloatSlider(value=5.0, description='T', max=7.0, min=-7.0, step=0.01), FloatSlider(value…"
      ]
     },
     "metadata": {},
     "output_type": "display_data"
    }
   ],
   "source": [
    "import matplotlib.pyplot as plt\n",
    "import numpy as np\n",
    "from ipywidgets import interactive,widgets\n",
    "\n",
    "def sig(T,x):\n",
    "    return 1/(1+np.exp(-T*x))\n",
    "def plot_sig(T,Range):\n",
    "    l = Range\n",
    "    x = np.linspace(-l, l, 1000)\n",
    "    plt.figure(figsize=(15, 8))\n",
    "    plt.plot(x, sig(T,x), label=f'T = {T}')\n",
    "    plt.title('Sigmoid Function')\n",
    "    plt.axhline(0, color='black', linestyle='-', linewidth=0.5)\n",
    "    plt.axvline(0, color='black', linestyle='-', linewidth=0.5)\n",
    "    plt.xlabel('x')\n",
    "    plt.ylabel('y')\n",
    "    plt.legend()\n",
    "    plt.grid(True)\n",
    "    plt.show()\n",
    "\n",
    "interactive_plot = interactive(plot_sig, T=widgets.FloatSlider(value = 5, min = -7.0, max = 7.0, step=0.01),Range=widgets.FloatSlider(value = 100, min = 0, max = 500, step=1))\n",
    "interactive_plot"
   ]
  },
  {
   "cell_type": "code",
   "execution_count": 54,
   "id": "709aceb8",
   "metadata": {},
   "outputs": [
    {
     "data": {
      "application/vnd.jupyter.widget-view+json": {
       "model_id": "82f1327f5142447382542634629e24d0",
       "version_major": 2,
       "version_minor": 0
      },
      "text/plain": [
       "interactive(children=(FloatSlider(value=100.0, description='Range', max=500.0, step=1.0), Output()), _dom_clas…"
      ]
     },
     "metadata": {},
     "output_type": "display_data"
    }
   ],
   "source": [
    "def tanh(Range):\n",
    "    l = Range\n",
    "    x = np.linspace(-l, l, 1000)\n",
    "    y = np.tanh(x)\n",
    "    plt.figure(figsize=(8, 6))\n",
    "    plt.plot(x, y)\n",
    "    plt.title('Tanh Function')\n",
    "    plt.axhline(0, color='black', linestyle='-', linewidth=0.5)\n",
    "    plt.axvline(0, color='black', linestyle='-', linewidth=0.5)\n",
    "    plt.xlabel('x')\n",
    "    plt.ylabel('y')\n",
    "    plt.grid(True)\n",
    "    plt.show()\n",
    "interactive_plot = interactive(tanh,Range=widgets.FloatSlider(value = 100, min = 0, max = 500, step=1))\n",
    "interactive_plot"
   ]
  },
  {
   "cell_type": "code",
   "execution_count": 62,
   "id": "c13b54bd",
   "metadata": {},
   "outputs": [
    {
     "data": {
      "application/vnd.jupyter.widget-view+json": {
       "model_id": "50461e9c757b4e41aded3dc5df3ced30",
       "version_major": 2,
       "version_minor": 0
      },
      "text/plain": [
       "interactive(children=(FloatSlider(value=100.0, description='Range', max=5000.0, step=50.0), Output()), _dom_cl…"
      ]
     },
     "metadata": {},
     "output_type": "display_data"
    }
   ],
   "source": [
    "\n",
    "def ReLU(a):\n",
    "    if a < 0 :\n",
    "        return 0\n",
    "    else:\n",
    "        return a\n",
    "def Relu(x):\n",
    "    y = [ReLU(a)  for index,a in enumerate(x)]\n",
    "    return y\n",
    "def plot_ReLU(Range):\n",
    "    l = Range\n",
    "    x = np.linspace(-l, l, 1000)\n",
    "    plt.figure(figsize=(8, 6))\n",
    "    plt.plot(x,Relu(x))\n",
    "    plt.title('ReLU Function')\n",
    "    plt.axhline(0, color='black', linestyle='-', linewidth=0.5)\n",
    "    plt.axvline(0, color='black', linestyle='-', linewidth=0.5)\n",
    "    plt.xlabel('x')\n",
    "    plt.ylabel('y')\n",
    "    plt.grid(True)\n",
    "    plt.show()\n",
    "interactive_plot = interactive(plot_ReLU,Range=widgets.FloatSlider(value = 100, min = 0, max = 5000, step=50))\n",
    "interactive_plot"
   ]
  }
 ],
 "metadata": {
  "kernelspec": {
   "display_name": "Python 3 (ipykernel)",
   "language": "python",
   "name": "python3"
  },
  "language_info": {
   "codemirror_mode": {
    "name": "ipython",
    "version": 3
   },
   "file_extension": ".py",
   "mimetype": "text/x-python",
   "name": "python",
   "nbconvert_exporter": "python",
   "pygments_lexer": "ipython3",
   "version": "3.9.7"
  }
 },
 "nbformat": 4,
 "nbformat_minor": 5
}
